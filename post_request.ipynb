{
 "cells": [
  {
   "cell_type": "code",
   "execution_count": 1,
   "id": "ff7aa08d",
   "metadata": {},
   "outputs": [],
   "source": [
    "import requests"
   ]
  },
  {
   "cell_type": "code",
   "execution_count": 2,
   "id": "8096c3d5",
   "metadata": {},
   "outputs": [],
   "source": [
    "to_pred = {'sepal_length':5.1,\n",
    "           'sepal_width':3.8,\n",
    "           'petal_length':1.9,\n",
    "           'petal_width':0.4}"
   ]
  },
  {
   "cell_type": "code",
   "execution_count": 3,
   "id": "1edc6aa7",
   "metadata": {},
   "outputs": [],
   "source": [
    "url = 'http://127.0.0.1:8000/predict'"
   ]
  },
  {
   "cell_type": "code",
   "execution_count": 4,
   "id": "e2b75376",
   "metadata": {},
   "outputs": [],
   "source": [
    "r = requests.post(url,json=to_pred)"
   ]
  },
  {
   "cell_type": "code",
   "execution_count": 5,
   "id": "85c57b85",
   "metadata": {},
   "outputs": [
    {
     "data": {
      "text/plain": [
       "{'prediction': 'setosa'}"
      ]
     },
     "execution_count": 5,
     "metadata": {},
     "output_type": "execute_result"
    }
   ],
   "source": [
    "r.json()"
   ]
  },
  {
   "cell_type": "code",
   "execution_count": null,
   "id": "aeb99f48",
   "metadata": {},
   "outputs": [],
   "source": []
  }
 ],
 "metadata": {
  "kernelspec": {
   "display_name": "Python 3 (ipykernel)",
   "language": "python",
   "name": "python3"
  },
  "language_info": {
   "codemirror_mode": {
    "name": "ipython",
    "version": 3
   },
   "file_extension": ".py",
   "mimetype": "text/x-python",
   "name": "python",
   "nbconvert_exporter": "python",
   "pygments_lexer": "ipython3",
   "version": "3.8.0"
  }
 },
 "nbformat": 4,
 "nbformat_minor": 5
}
